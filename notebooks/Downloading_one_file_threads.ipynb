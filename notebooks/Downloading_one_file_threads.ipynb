{
 "cells": [
  {
   "cell_type": "markdown",
   "id": "b50ee784-1486-4137-abe8-d0babbf36022",
   "metadata": {},
   "source": [
    "### IMAS MOORING MANUAL QC PLOTTING AND AUTOMATED QC\n",
    "#### This notebook loads one netcdf file from IMOS threads and then we create a plot of the temperature time series with masked manual qc values on top. "
   ]
  },
  {
   "cell_type": "code",
   "execution_count": 7,
   "id": "320ebae2-ee70-491d-a636-8e45ae4e4665",
   "metadata": {},
   "outputs": [],
   "source": [
    "import numpy as np\n",
    "import xarray as xr\n",
    "import pandas as pd\n",
    "import matplotlib.pyplot as plt\n",
    "from dask import bag as db\n",
    "%matplotlib inline  "
   ]
  },
  {
   "cell_type": "markdown",
   "id": "27b8d0c5-8df9-4fe9-897d-c01edfa7baec",
   "metadata": {},
   "source": [
    "## Loading data from threads. "
   ]
  },
  {
   "cell_type": "code",
   "execution_count": 8,
   "id": "fe573f02-b4bb-4484-85f8-f5685cccf465",
   "metadata": {},
   "outputs": [
    {
     "name": "stdout",
     "output_type": "stream",
     "text": [
      "<xarray.Dataset>\n",
      "Dimensions:                (TIME: 29569)\n",
      "Coordinates:\n",
      "  * TIME                   (TIME) datetime64[ns] 2021-07-25T13:00:00.00000665...\n",
      "    LATITUDE               float64 ...\n",
      "    LONGITUDE              float64 ...\n",
      "    NOMINAL_DEPTH          float32 ...\n",
      "Data variables:\n",
      "    TIMESERIES             int32 ...\n",
      "    TEMP                   (TIME) float32 ...\n",
      "    TEMP_quality_control   (TIME) float32 ...\n",
      "    DEPTH                  (TIME) float32 ...\n",
      "    DEPTH_quality_control  (TIME) float32 ...\n",
      "Attributes: (12/54)\n",
      "    abstract:                      NSW-IMOS Coffs Harbour 100m Mooring\n",
      "    acknowledgement:               Any users of IMOS data are required to cle...\n",
      "    author:                        Austin, Timothy\n",
      "    author_email:                  t.austin@unsw.edu.au\n",
      "    cdm_data_type:                 Station\n",
      "    citation:                      The citation in a list of references is: \"...\n",
      "    ...                            ...\n",
      "    time_deployment_end_origin:    TimeLastInPos\n",
      "    time_deployment_start:         2021-07-26T21:50:00Z\n",
      "    time_deployment_start_origin:  TimeFirstInPos\n",
      "    title:                         ANMN NSW-IMOS Mooring Data\n",
      "    toolbox_input_file:            C:\\NSW-IMOS\\Processing\\DATA\\055_CH100_27Ju...\n",
      "    toolbox_version:               2.6.13 - PCWIN64\n"
     ]
    }
   ],
   "source": [
    "fileName = \"https://thredds.aodn.org.au/thredds/dodsC/IMOS/ANMN/NSW/CH100/Temperature/IMOS_ANMN-NSW_TZ_20210726T215000Z_CH100_FV01_CH100-2107-Aqualogger-AQUAlogger-520T-max1000m-28_END-20211102T220000Z_C-20211117T033150Z.nc\"\n",
    "nc = xr.open_dataset(fileName)\n",
    "print(nc)  # change this to just `nc` for a more interactive view when running the notebook"
   ]
  },
  {
   "cell_type": "markdown",
   "id": "42ee7947-5cb5-48ee-94fe-4dc9694a01e0",
   "metadata": {},
   "source": [
    "### Just trying to understand how this file looks like"
   ]
  },
  {
   "cell_type": "code",
   "execution_count": 9,
   "id": "a5854fee-4828-40f7-a207-02304512f243",
   "metadata": {},
   "outputs": [
    {
     "data": {
      "text/plain": [
       "[<matplotlib.lines.Line2D at 0x7fe3c8f20340>]"
      ]
     },
     "execution_count": 9,
     "metadata": {},
     "output_type": "execute_result"
    },
    {
     "data": {
      "image/png": "[encoded data removed]",
      "text/plain": [
       "<Figure size 432x288 with 1 Axes>"
      ]
     },
     "metadata": {
      "needs_background": "light"
     },
     "output_type": "display_data"
    }
   ],
   "source": [
    "nc.TEMP.plot()\n",
    "nc.TEMP_quality_control.plot()"
   ]
  },
  {
   "cell_type": "markdown",
   "id": "dd75402e-7f7d-4fde-91e4-05fae3e8266e",
   "metadata": {},
   "source": [
    "### Taking a look at the main variable's attributes"
   ]
  },
  {
   "cell_type": "code",
   "execution_count": 10,
   "id": "1c609580-5463-49b6-a733-973a371ee3e3",
   "metadata": {},
   "outputs": [
    {
     "ename": "NameError",
     "evalue": "name 'temp' is not defined",
     "output_type": "error",
     "traceback": [
      "\u001b[0;31m---------------------------------------------------------------------------\u001b[0m",
      "\u001b[0;31mNameError\u001b[0m                                 Traceback (most recent call last)",
      "Input \u001b[0;32mIn [10]\u001b[0m, in \u001b[0;36m<cell line: 1>\u001b[0;34m()\u001b[0m\n\u001b[0;32m----> 1\u001b[0m \u001b[43mtemp\u001b[49m\n",
      "\u001b[0;31mNameError\u001b[0m: name 'temp' is not defined"
     ]
    }
   ],
   "source": [
    "temp"
   ]
  },
  {
   "cell_type": "code",
   "execution_count": null,
   "id": "c0b66bbe-5bb8-42d7-868b-a389cf6a68dd",
   "metadata": {},
   "outputs": [],
   "source": [
    "temp.attrs[\"units\"] = \"deg C\"\n",
    "temp.attrs[\"long_name\"] = \"temperature\"\n",
    "temp.LATITUDE.attrs[\"long_name\"] = \"temperature\""
   ]
  },
  {
   "cell_type": "markdown",
   "id": "5a6a9b6f-8b3b-4816-b33b-ef54c920e47f",
   "metadata": {},
   "source": [
    "### Make the plot"
   ]
  },
  {
   "cell_type": "code",
   "execution_count": null,
   "id": "8871eef7-a4f0-4ad2-98e9-cadfe31cd937",
   "metadata": {},
   "outputs": [],
   "source": [
    "plt.rcParams[\"figure.figsize\"] = [10, 10]\n",
    "plt.rcParams.update({'font.size': 16})\n",
    "fg,(ax1,ax2) = plt.subplots(nrows=2,ncols=1)#,sharex=True)\n",
    "        \n",
    "a, =nc.TEMP.plot(ax=ax1,hue='DEPTH', label='full dataset')\n",
    "b, =temp[np.where(temp_flags!=1)].plot(ax=ax1,marker='.',linestyle='none',markersize=2,label='flagged as bad data')\n",
    "ax1.legend(handles=[a, b])\n",
    "ax1.set_xlabel('')\n",
    "\n",
    "c, =temp[np.where(temp_flags==1)].plot(ax=ax2,marker='.',linestyle='none',markersize=2,label='flagged as good data')\n",
    "ax2.legend(handles=[c])\n",
    "\n",
    "# I haven't authomatized this; so must be changed or commented out\n",
    "ax1.set_title('NSW: -30.26(deg N) / 153.4 (deg E)')\n",
    "ax2.set_title('')\n",
    "\n",
    "plt.tight_layout()"
   ]
  },
  {
   "cell_type": "code",
   "execution_count": null,
   "id": "394d265c-f0dc-4e86-8021-da41742f4b9e",
   "metadata": {},
   "outputs": [],
   "source": []
  },
  {
   "cell_type": "code",
   "execution_count": null,
   "id": "a0dfab25-1e04-4546-8123-0938d083026f",
   "metadata": {},
   "outputs": [],
   "source": []
  }
 ],
 "metadata": {
  "kernelspec": {
   "display_name": "Python [conda env:root] *",
   "language": "python",
   "name": "conda-root-py"
  },
  "language_info": {
   "codemirror_mode": {
    "name": "ipython",
    "version": 3
   },
   "file_extension": ".py",
   "mimetype": "text/x-python",
   "name": "python",
   "nbconvert_exporter": "python",
   "pygments_lexer": "ipython3",
   "version": "3.9.13"
  }
 },
 "nbformat": 4,
 "nbformat_minor": 5
}
