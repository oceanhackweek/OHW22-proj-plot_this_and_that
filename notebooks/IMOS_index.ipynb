{
 "cells": [
  {
   "cell_type": "code",
   "execution_count": 17,
   "id": "124238f6-d643-4326-b88f-30cd1ab93737",
   "metadata": {},
   "outputs": [],
   "source": [
    "import sys\n",
    "import os\n",
    "import json\n",
    "sys.path.append('/home/jovyan/intake-aodn')"
   ]
  },
  {
   "cell_type": "code",
   "execution_count": 7,
   "id": "f78edd2d-9fe9-42f2-9c3b-ea43cf995e77",
   "metadata": {},
   "outputs": [],
   "source": [
    "import fsspec\n",
    "from fsspec.core import url_to_fs\n",
    "fs = fsspec.filesystem('s3',use_listings_cache=False,anon=True,)\n",
    "\n",
    "urls = fs.glob('s3::imos-data/IMOS/ANMN/QLD/**/*.nc')\n"
   ]
  },
  {
   "cell_type": "code",
   "execution_count": 8,
   "id": "84a1916b-77da-4965-9c1b-0e8636c6d2c7",
   "metadata": {},
   "outputs": [
    {
     "data": {
      "text/plain": [
       "7613"
      ]
     },
     "execution_count": 8,
     "metadata": {},
     "output_type": "execute_result"
    }
   ],
   "source": [
    "len(urls)"
   ]
  },
  {
   "cell_type": "code",
   "execution_count": 9,
   "id": "557e2318-8d1c-41c1-9510-49bccd8c70f7",
   "metadata": {},
   "outputs": [],
   "source": [
    "timeseries = list(filter(lambda x: 'aggregated_timeseries' in x, urls))"
   ]
  },
  {
   "cell_type": "code",
   "execution_count": 11,
   "id": "a08a3597-0cf7-4329-bc5c-488163cb57ab",
   "metadata": {},
   "outputs": [
    {
     "data": {
      "text/plain": [
       "155"
      ]
     },
     "execution_count": 11,
     "metadata": {},
     "output_type": "execute_result"
    }
   ],
   "source": [
    "len(timeseries)"
   ]
  },
  {
   "cell_type": "code",
   "execution_count": 12,
   "id": "b7915223-75c8-4c70-9243-9216b59de296",
   "metadata": {},
   "outputs": [],
   "source": [
    "def process_single(url):\n",
    "    import fsspec\n",
    "    from kerchunk.hdf import SingleHdf5ToZarr\n",
    "    \n",
    "    s3_fn = 's3://' + url\n",
    "    with fsspec.open(s3_fn, \n",
    "                     anon=True, \n",
    "                     mode='rb', \n",
    "                     default_fill_cache=False, \n",
    "                     default_cache_type='none') as f:\n",
    "        zarr_dict = SingleHdf5ToZarr(f, s3_fn, spec=1, inline_threshold=100).translate()\n",
    "        \n",
    "    return zarr_dict "
   ]
  },
  {
   "cell_type": "code",
   "execution_count": 13,
   "id": "d80ee079-846b-4501-90b1-ade1b20670f3",
   "metadata": {},
   "outputs": [
    {
     "name": "stdout",
     "output_type": "stream",
     "text": [
      "An existing cluster was found. Connected to cluster \u001b[1measihub.b139066194c14b4c8777e506f588ff14\u001b[0m\n"
     ]
    },
    {
     "data": {
      "application/vnd.jupyter.widget-view+json": {
       "model_id": "1158d376bdbe4d6aa0784b79c2524b82",
       "version_major": 2,
       "version_minor": 0
      },
      "text/plain": [
       "VBox(children=(HTML(value='<h2>GatewayCluster</h2>'), HBox(children=(HTML(value='\\n<div>\\n<style scoped>\\n    …"
      ]
     },
     "metadata": {},
     "output_type": "display_data"
    },
    {
     "data": {
      "text/html": [
       "<div>\n",
       "    <div style=\"width: 24px; height: 24px; background-color: #e1e1e1; border: 3px solid #9D9D9D; border-radius: 5px; position: absolute;\"> </div>\n",
       "    <div style=\"margin-left: 48px;\">\n",
       "        <h3 style=\"margin-bottom: 0px;\">Client</h3>\n",
       "        <p style=\"color: #9D9D9D; margin-bottom: 0px;\">Client-df2a1631-1dea-11ed-867c-16b7253836c9</p>\n",
       "        <table style=\"width: 100%; text-align: left;\">\n",
       "\n",
       "        <tr>\n",
       "        \n",
       "            <td style=\"text-align: left;\"><strong>Connection method:</strong> Cluster object</td>\n",
       "            <td style=\"text-align: left;\"><strong>Cluster type:</strong> dask_gateway.GatewayCluster</td>\n",
       "        \n",
       "        </tr>\n",
       "\n",
       "        \n",
       "            <tr>\n",
       "                <td style=\"text-align: left;\">\n",
       "                    <strong>Dashboard: </strong> <a href=\"https://hub.csiro.easi-eo.solutions/services/dask-gateway/clusters/easihub.b139066194c14b4c8777e506f588ff14/status\" target=\"_blank\">https://hub.csiro.easi-eo.solutions/services/dask-gateway/clusters/easihub.b139066194c14b4c8777e506f588ff14/status</a>\n",
       "                </td>\n",
       "                <td style=\"text-align: left;\"></td>\n",
       "            </tr>\n",
       "        \n",
       "\n",
       "        </table>\n",
       "\n",
       "        \n",
       "            <details>\n",
       "            <summary style=\"margin-bottom: 20px;\"><h3 style=\"display: inline;\">Cluster Info</h3></summary>\n",
       "            <div style='background-color: #f2f2f2; display: inline-block; padding: 10px; border: 1px solid #999999;'>\n",
       "  <h3>GatewayCluster</h3>\n",
       "  <ul>\n",
       "    <li><b>Name: </b>easihub.b139066194c14b4c8777e506f588ff14\n",
       "    <li><b>Dashboard: </b><a href='https://hub.csiro.easi-eo.solutions/services/dask-gateway/clusters/easihub.b139066194c14b4c8777e506f588ff14/status' target='_blank'>https://hub.csiro.easi-eo.solutions/services/dask-gateway/clusters/easihub.b139066194c14b4c8777e506f588ff14/status</a>\n",
       "  </ul>\n",
       "</div>\n",
       "\n",
       "            </details>\n",
       "        \n",
       "\n",
       "    </div>\n",
       "</div>"
      ],
      "text/plain": [
       "<Client: 'tls://10.0.48.37:8786' processes=1 threads=1, memory=2.00 GiB>"
      ]
     },
     "execution_count": 13,
     "metadata": {},
     "output_type": "execute_result"
    }
   ],
   "source": [
    "from intake_aodn.utils import get_distributed_cluster\n",
    "client = get_distributed_cluster()\n",
    "client"
   ]
  },
  {
   "cell_type": "code",
   "execution_count": 14,
   "id": "abf690db-e592-41f5-a0ff-9d3049fa9690",
   "metadata": {},
   "outputs": [
    {
     "data": {
      "text/plain": [
       "{'tls://10.0.34.197:46359': {'status': 'OK'}}"
      ]
     },
     "execution_count": 14,
     "metadata": {},
     "output_type": "execute_result"
    }
   ],
   "source": [
    "from dask.distributed import PipInstall\n",
    "plugin = PipInstall(packages=[\"kerchunk\"], pip_options=[\"--upgrade\"])\n",
    "client.register_worker_plugin(plugin)\n",
    "\n",
    "# If using a distributed cluster on EASI build eggs using \"python setup.py bdist_egg\" and upload to workers\n",
    "# otherwise dask workers wont have code for imports\n",
    "client.upload_file('/home/jovyan/intake-aodn/dist/intake_aodn-0+untagged.76.g4219cb6.dirty-py3.8.egg')"
   ]
  },
  {
   "cell_type": "code",
   "execution_count": 16,
   "id": "d43d2263-f35e-4c21-b02b-71b7591598f8",
   "metadata": {},
   "outputs": [
    {
     "name": "stdout",
     "output_type": "stream",
     "text": [
      "... using dask ...\n"
     ]
    }
   ],
   "source": [
    "print('... using dask ...')\n",
    "from dask import delayed, compute\n",
    "d_process_single = delayed(process_single)\n",
    "futures = [d_process_single(u) for u in timeseries]\n",
    "ref_dicts = compute(futures)[0]"
   ]
  },
  {
   "cell_type": "code",
   "execution_count": 18,
   "id": "f3a55d2f-d22b-48f6-b798-4c8738f78c98",
   "metadata": {},
   "outputs": [
    {
     "name": "stdout",
     "output_type": "stream",
     "text": [
      "./reffs/IMOS_ANMN-QLD_CSTZ_20140828T090001Z_CAM050_FV01_CAM050-1408-SBE37SM-RS232-21.6_END-20150221T034501Z_C-20170214T052032Z.json\n",
      "./reffs/IMOS_ANMN-QLD_CSTZ_20140828T090001Z_CAM050_FV01_CAM050-1408-SBE37SM-RS232-49.4_END-20150221T025501Z_C-20170214T052020Z.json\n",
      "./reffs/IMOS_ANMN-QLD_CSTZ_20150217T013001Z_CAM050_FV01_CAM050-1502-SBE37SM-RS232-25.6_END-20150727T034501Z_C-20170217T004104Z.json\n",
      "./reffs/IMOS_ANMN-QLD_CSTZ_20150219T120001Z_CAM050_FV01_CAM050-1502-SBE37SM-RS232-53.4_END-20150729T044001Z_C-20170217T004059Z.json\n",
      "./reffs/IMOS_ANMN-QLD_CTZ_20140828T090001Z_CAM050_FV00_CAM050-1408-SBE37SM-RS232-21.6_END-20150221T034501Z_C-20170214T052032Z.json\n",
      "./reffs/IMOS_ANMN-QLD_CTZ_20140828T090001Z_CAM050_FV00_CAM050-1408-SBE37SM-RS232-49.4_END-20150221T025501Z_C-20170214T052020Z.json\n",
      "./reffs/IMOS_ANMN-QLD_CTZ_20150217T013001Z_CAM050_FV00_CAM050-1502-SBE37SM-RS232-25.6_END-20150727T034501Z_C-20170217T004104Z.json\n",
      "./reffs/IMOS_ANMN-QLD_CTZ_20150219T120001Z_CAM050_FV00_CAM050-1502-SBE37SM-RS232-53.4_END-20150729T044001Z_C-20170217T004059Z.json\n",
      "./reffs/IMOS_ANMN-QLD_TZ_20150219T120000Z_CAM050_FV01_CAM050-1502-SBE39-40.4_END-20150729T024604Z_C-20170217T004103Z.json\n",
      "./reffs/IMOS_ANMN-QLD_TZ_20150219T120000Z_CAM050_FV00_CAM050-1502-SBE39-40.4_END-20150729T024604Z_C-20170217T004103Z.json\n",
      "./reffs/IMOS_ANMN-QLD_AETVZ_20140828T090000Z_CAM050_FV01_CAM050-1408-Sentinel-or-Monitor-Workhorse-ADCP-46.7_END-20150221T043255Z_C-20170214T052025Z.json\n",
      "./reffs/IMOS_ANMN-QLD_AETVZ_20150219T110000Z_CAM050_FV01_CAM050-1502-Sentinel-or-Monitor-Workhorse-ADCP-50.7_END-20150729T131755Z_C-20170217T004102Z.json\n",
      "./reffs/IMOS_ANMN-QLD_AETVZ_20140828T090000Z_CAM050_FV00_CAM050-1408-Sentinel-or-Monitor-Workhorse-ADCP-46.7_END-20150221T043255Z_C-20170214T052025Z.json\n",
      "./reffs/IMOS_ANMN-QLD_AETVZ_20150219T110000Z_CAM050_FV00_CAM050-1502-Sentinel-or-Monitor-Workhorse-ADCP-50.7_END-20150729T131755Z_C-20170217T004102Z.json\n",
      "./reffs/IMOS_ANMN-QLD_SZ_20140828_CAM050_FV01_PSAL-aggregated-timeseries_END-20150728_C-20210428.json\n",
      "./reffs/IMOS_ANMN-QLD_TZ_20140828_CAM050_FV01_TEMP-aggregated-timeseries_END-20150728_C-20210428.json\n",
      "./reffs/IMOS_ANMN-QLD_VZ_20140828_CAM050_FV01_velocity-aggregated-timeseries_END-20150728_C-20200603.json\n",
      "./reffs/IMOS_ANMN-QLD_TZ_20140828_CAM050_FV02_TEMP-gridded-timeseries_END-20150728_C-20200207.json\n",
      "./reffs/IMOS_ANMN-QLD_STZ_20140828_CAM050_FV02_hourly-timeseries-including-non-QC_END-20150728_C-20200205.json\n",
      "./reffs/IMOS_ANMN-QLD_STZ_20140828_CAM050_FV02_hourly-timeseries_END-20150728_C-20200205.json\n",
      "./reffs/IMOS_ANMN-QLD_VZ_20140828_CAM050_FV02_velocity-hourly-timeseries_END-20150729_C-20200428.json\n",
      "./reffs/IMOS_ANMN-QLD_CSTZ_20140829T060001Z_CAM100_FV01_CAM100-1408-SBE37SM-RS232-23.3_END-20150221T032001Z_C-20170215T033523Z.json\n",
      "./reffs/IMOS_ANMN-QLD_CSTZ_20140829T060001Z_CAM100_FV01_CAM100-1408-SBE37SM-RS232-95.3_END-20150221T033001Z_C-20170215T033457Z.json\n",
      "./reffs/IMOS_ANMN-QLD_CSTZ_20150219T120001Z_CAM100_FV01_CAM100-1502-SBE37SM-RS232-21.2_END-20150729T103001Z_C-20170217T003154Z.json\n",
      "./reffs/IMOS_ANMN-QLD_CSTZ_20150219T120001Z_CAM100_FV01_CAM100-1502-SBE37SM-RS232-93.2_END-20150729T091501Z_C-20170217T003149Z.json\n",
      "./reffs/IMOS_ANMN-QLD_CTZ_20140829T060001Z_CAM100_FV00_CAM100-1408-SBE37SM-RS232-23.3_END-20150221T032001Z_C-20170215T033523Z.json\n",
      "./reffs/IMOS_ANMN-QLD_CTZ_20140829T060001Z_CAM100_FV00_CAM100-1408-SBE37SM-RS232-95.3_END-20150221T033001Z_C-20170215T033457Z.json\n",
      "./reffs/IMOS_ANMN-QLD_CTZ_20150219T120001Z_CAM100_FV00_CAM100-1502-SBE37SM-RS232-21.2_END-20150729T103001Z_C-20170217T003154Z.json\n",
      "./reffs/IMOS_ANMN-QLD_CTZ_20150219T120001Z_CAM100_FV00_CAM100-1502-SBE37SM-RS232-93.2_END-20150729T091501Z_C-20170217T003149Z.json\n",
      "./reffs/IMOS_ANMN-QLD_TZ_20140829T060000Z_CAM100_FV01_CAM100-1408-SBE39-67.8_END-20150221T050000Z_C-20170215T033513Z.json\n",
      "./reffs/IMOS_ANMN-QLD_TZ_20140829T060000Z_CAM100_FV01_CAM100-1408-SBE56-37.8_END-20150221T054429Z_C-20170215T033521Z.json\n",
      "./reffs/IMOS_ANMN-QLD_TZ_20140829T060000Z_CAM100_FV01_CAM100-1408-SBE56-47.8_END-20150221T051329Z_C-20170215T033518Z.json\n",
      "./reffs/IMOS_ANMN-QLD_TZ_20140829T060000Z_CAM100_FV01_CAM100-1408-SBE56-57.8_END-20150221T045429Z_C-20170215T033516Z.json\n",
      "./reffs/IMOS_ANMN-QLD_TZ_20140829T060000Z_CAM100_FV01_CAM100-1408-SBE56-75.8_END-20150221T055559Z_C-20170215T033510Z.json\n",
      "./reffs/IMOS_ANMN-QLD_TZ_20140829T060000Z_CAM100_FV01_CAM100-1408-SBE56-83.8_END-20150221T042846Z_C-20170215T033508Z.json\n",
      "./reffs/IMOS_ANMN-QLD_TZ_20150217T042955Z_CAM100_FV01_CAM100-1502-SBE56-35.7_END-20150729T034425Z_C-20170217T003153Z.json\n",
      "./reffs/IMOS_ANMN-QLD_TZ_20150219T120000Z_CAM100_FV01_CAM100-1502-SBE39-65.7_END-20150729T034000Z_C-20170217T003152Z.json\n",
      "./reffs/IMOS_ANMN-QLD_TZ_20150219T120000Z_CAM100_FV01_CAM100-1502-SBE56-45.7_END-20150730T011659Z_C-20170217T003153Z.json\n",
      "./reffs/IMOS_ANMN-QLD_TZ_20150219T120000Z_CAM100_FV01_CAM100-1502-SBE56-55.7_END-20150729T042629Z_C-20170217T003152Z.json\n",
      "./reffs/IMOS_ANMN-QLD_TZ_20150219T120000Z_CAM100_FV01_CAM100-1502-SBE56-81.7_END-20150729T045729Z_C-20170217T003151Z.json\n",
      "./reffs/IMOS_ANMN-QLD_TZ_20140829T060000Z_CAM100_FV00_CAM100-1408-SBE39-67.8_END-20150221T050000Z_C-20170215T033513Z.json\n",
      "./reffs/IMOS_ANMN-QLD_TZ_20140829T060000Z_CAM100_FV00_CAM100-1408-SBE56-37.8_END-20150221T054429Z_C-20170215T033521Z.json\n",
      "./reffs/IMOS_ANMN-QLD_TZ_20140829T060000Z_CAM100_FV00_CAM100-1408-SBE56-47.8_END-20150221T051329Z_C-20170215T033518Z.json\n",
      "./reffs/IMOS_ANMN-QLD_TZ_20140829T060000Z_CAM100_FV00_CAM100-1408-SBE56-57.8_END-20150221T045429Z_C-20170215T033516Z.json\n",
      "./reffs/IMOS_ANMN-QLD_TZ_20140829T060000Z_CAM100_FV00_CAM100-1408-SBE56-75.8_END-20150221T055559Z_C-20170215T033510Z.json\n",
      "./reffs/IMOS_ANMN-QLD_TZ_20140829T060000Z_CAM100_FV00_CAM100-1408-SBE56-83.8_END-20150221T042846Z_C-20170215T033508Z.json\n",
      "./reffs/IMOS_ANMN-QLD_TZ_20150217T042955Z_CAM100_FV00_CAM100-1502-SBE56-35.7_END-20150729T034425Z_C-20170217T003153Z.json\n",
      "./reffs/IMOS_ANMN-QLD_TZ_20150219T120000Z_CAM100_FV00_CAM100-1502-SBE39-65.7_END-20150729T034000Z_C-20170217T003152Z.json\n",
      "./reffs/IMOS_ANMN-QLD_TZ_20150219T120000Z_CAM100_FV00_CAM100-1502-SBE56-45.7_END-20150730T011659Z_C-20170217T003153Z.json\n",
      "./reffs/IMOS_ANMN-QLD_TZ_20150219T120000Z_CAM100_FV00_CAM100-1502-SBE56-55.7_END-20150729T042629Z_C-20170217T003152Z.json\n",
      "./reffs/IMOS_ANMN-QLD_TZ_20150219T120000Z_CAM100_FV00_CAM100-1502-SBE56-81.7_END-20150729T045729Z_C-20170217T003151Z.json\n",
      "./reffs/IMOS_ANMN-QLD_AETVZ_20140829T055800Z_CAM100_FV01_CAM100-1408-Quartermaster-Workhorse-ADCP-92.2_END-20150220T055759Z_C-20170215T033500Z.json\n",
      "./reffs/IMOS_ANMN-QLD_AETVZ_20150219T215800Z_CAM100_FV01_CAM100-1502-Quartermaster-Workhorse-ADCP-90.1_END-20150729T095800Z_C-20170217T003150Z.json\n",
      "./reffs/IMOS_ANMN-QLD_AETVZ_20140829T055800Z_CAM100_FV00_CAM100-1408-Quartermaster-Workhorse-ADCP-92.2_END-20150220T055759Z_C-20170215T033500Z.json\n",
      "./reffs/IMOS_ANMN-QLD_AETVZ_20150219T215800Z_CAM100_FV00_CAM100-1502-Quartermaster-Workhorse-ADCP-90.1_END-20150729T095800Z_C-20170217T003150Z.json\n",
      "./reffs/IMOS_ANMN-QLD_SZ_20140829_CAM100_FV01_PSAL-aggregated-timeseries_END-20150728_C-20220622.json\n",
      "./reffs/IMOS_ANMN-QLD_TZ_20140829_CAM100_FV01_TEMP-aggregated-timeseries_END-20150728_C-20220622.json\n",
      "./reffs/IMOS_ANMN-QLD_VZ_20140829_CAM100_FV01_velocity-aggregated-timeseries_END-20150728_C-20220622.json\n",
      "./reffs/IMOS_ANMN-QLD_TZ_20140829_CAM100_FV02_TEMP-gridded-timeseries_END-20150728_C-20220622.json\n",
      "./reffs/IMOS_ANMN-QLD_STZ_20140829_CAM100_FV02_hourly-timeseries-including-non-QC_END-20150728_C-20220622.json\n",
      "./reffs/IMOS_ANMN-QLD_STZ_20140829_CAM100_FV02_hourly-timeseries_END-20150728_C-20220622.json\n",
      "./reffs/IMOS_ANMN-QLD_VZ_20140829_CAM100_FV02_velocity-hourly-timeseries_END-20150729_C-20220622.json\n",
      "./reffs/IMOS_ANMN-QLD_CDEFKSTZ_20140107T070500Z_DARBGF_FV01_Profile-SBE9_C-20210922T233500Z.json\n",
      "./reffs/IMOS_ANMN-QLD_CDEFKSTZ_20140917T033000Z_DARBGF_FV01_Profile-SBE9_C-20210922T232449Z.json\n",
      "./reffs/IMOS_ANMN-QLD_CDEFKSTZ_20140917T082800Z_DARBGF_FV01_Profile-SBE9_C-20210922T232438Z.json\n",
      "./reffs/IMOS_ANMN-QLD_CDEFKSTZ_20150805T221200Z_DARBGF_FV01_Profile-SBE9_C-20210922T231432Z.json\n",
      "./reffs/IMOS_ANMN-QLD_CDEFKSTZ_20160204T072600Z_DARBGF_FV01_Profile-SBE9_C-20210930T050344Z.json\n",
      "./reffs/IMOS_ANMN-QLD_CDEFKSTZ_20160207T021700Z_DARBGF_FV01_Profile-SBE9_C-20210922T231314Z.json\n",
      "./reffs/IMOS_ANMN-QLD_CDEFKSTZ_20160726T035400Z_DARBGF_FV01_Profile-SBE9_C-20210922T220718Z.json\n",
      "./reffs/IMOS_ANMN-QLD_CDEFKSTZ_20170207T031000Z_DARBGF_FV01_Profile-SBE9_C-20210922T220023Z.json\n",
      "./reffs/IMOS_ANMN-QLD_CDEFKSTZ_20170208T084500Z_DARBGF_FV01_Profile-SBE9_C-20210922T220105Z.json\n",
      "./reffs/IMOS_ANMN-QLD_CDEFKSTZ_20170716T222200Z_DARBGF_FV01_Profile-SBE9_C-20210922T062903Z.json\n",
      "./reffs/IMOS_ANMN-QLD_CDEFOSTUZ_20150806T072400Z_DARBGF_FV01_Profile-SBE25plus_C-20210922T231358Z.json\n",
      "./reffs/IMOS_ANMN-QLD_CDEFOSTUZ_20150815T043300Z_DARBGF_FV01_Profile-SBE25plus_C-20210922T231133Z.json\n",
      "./reffs/IMOS_ANMN-QLD_CDEKSTZ_20130626T024000Z_DARBGF_FV01_Profile-SBE9_C-20210922T233911Z.json\n",
      "./reffs/IMOS_ANMN-QLD_CDEFKSTZ_20140107T070500Z_DARBGF_FV00_Profile-SBE9_C-20210922T233500Z.json\n",
      "./reffs/IMOS_ANMN-QLD_CDEFKSTZ_20140917T033000Z_DARBGF_FV00_Profile-SBE9_C-20210922T232449Z.json\n",
      "./reffs/IMOS_ANMN-QLD_CDEFKSTZ_20140917T082800Z_DARBGF_FV00_Profile-SBE9_C-20210922T232438Z.json\n",
      "./reffs/IMOS_ANMN-QLD_CDEFKSTZ_20150805T221200Z_DARBGF_FV00_Profile-SBE9_C-20210922T231432Z.json\n",
      "./reffs/IMOS_ANMN-QLD_CDEFKSTZ_20160204T072600Z_DARBGF_FV00_Profile-SBE9_C-20210930T050344Z.json\n",
      "./reffs/IMOS_ANMN-QLD_CDEFKSTZ_20160207T021700Z_DARBGF_FV00_Profile-SBE9_C-20210922T231314Z.json\n",
      "./reffs/IMOS_ANMN-QLD_CDEFKSTZ_20160726T035400Z_DARBGF_FV00_Profile-SBE9_C-20210922T220718Z.json\n",
      "./reffs/IMOS_ANMN-QLD_CDEFKSTZ_20170207T031000Z_DARBGF_FV00_Profile-SBE9_C-20210922T220023Z.json\n",
      "./reffs/IMOS_ANMN-QLD_CDEFKSTZ_20170208T084500Z_DARBGF_FV00_Profile-SBE9_C-20210922T220105Z.json\n",
      "./reffs/IMOS_ANMN-QLD_CDEFKSTZ_20170716T222200Z_DARBGF_FV00_Profile-SBE9_C-20210922T062903Z.json\n",
      "./reffs/IMOS_ANMN-QLD_CDEFOSTUZ_20150806T072400Z_DARBGF_FV00_Profile-SBE25plus_C-20210922T231358Z.json\n",
      "./reffs/IMOS_ANMN-QLD_CDEFOSTUZ_20150815T043300Z_DARBGF_FV00_Profile-SBE25plus_C-20210922T231133Z.json\n",
      "./reffs/IMOS_ANMN-QLD_CDEKSTZ_20130626T024000Z_DARBGF_FV00_Profile-SBE9_C-20210922T233911Z.json\n",
      "./reffs/IMOS_ANMN-QLD_CFKSTUZ_20130621T054453Z_DARBGF_FV01_DARBGF-1306-SBE-16plus-29.9_END-20140109T054453Z_C-20150401T060718Z.json\n",
      "./reffs/IMOS_ANMN-QLD_CFKSTUZ_20131217T060003Z_DARBGF_FV01_DARBGF-1401-SBE16plus-30_END-20140918T024503Z_C-20171026T061846Z.json\n",
      "./reffs/IMOS_ANMN-QLD_CFKSTUZ_20140914T021459Z_DARBGF_FV01_DARBGF-1409-SBE16plus-30.1_END-20150205T024459Z_C-20171026T050525Z.json\n",
      "./reffs/IMOS_ANMN-QLD_CFKSTUZ_20150204T000003Z_DARBGF_FV01_DARBGF-1502-SBE16plus-31.9_END-20150809T063003Z_C-20171026T032427Z.json\n",
      "./reffs/IMOS_ANMN-QLD_CFKSTUZ_20150805T103003Z_DARBGF_FV01_DARBGF-1508-SBE16plus-29.3_END-20160207T225112Z_C-20171023T055701Z.json\n",
      "./reffs/IMOS_ANMN-QLD_CFKSTUZ_20160206T234503Z_DARBGF_FV01_DARBGF-1602-SBE16plus-28.4_END-20160731T023003Z_C-20171024T024043Z.json\n",
      "./reffs/IMOS_ANMN-QLD_CFKSTUZ_20160726T023003Z_DARBGF_FV01_DARBGF-1607-SBE16plus-29.5_END-20170209T011540Z_C-20171026T021309Z.json\n",
      "./reffs/IMOS_ANMN-QLD_CKOSTUZ_20150523T085944Z_DARBGF_FV01_DARBGF-SURF-1505-WQM-1_END-20150714T221531Z_C-20171026T040809Z.json\n",
      "./reffs/IMOS_ANMN-QLD_CKOSTUZ_20150812T082934Z_DARBGF_FV01_DARBGF-SURF-1508-WQM-0.2_END-20160207T071706Z_C-20171023T081732Z.json\n",
      "./reffs/IMOS_ANMN-QLD_CKOSTUZ_20160205T054444Z_DARBGF_FV01_DARBGF-SURF-1602-WQM-31_END-20160729T073859Z_C-20171024T040629Z.json\n",
      "./reffs/IMOS_ANMN-QLD_CKOSTUZ_20150524T010001Z_DARBGF_FV02_DARBGF-SURF-1505-WQM-1-burst-averaged_END-20150714T213001Z_C-20190626T063502Z.json\n",
      "./reffs/IMOS_ANMN-QLD_CKOSTUZ_20150815T044500Z_DARBGF_FV02_DARBGF-SURF-1508-WQM-0.2-burst-averaged_END-20160120T113030Z_C-20190626T063740Z.json\n",
      "./reffs/IMOS_ANMN-QLD_CKOSTUZ_20160205T054444Z_DARBGF_FV02_DARBGF-SURF-1602-WQM-31-burst-averaged_END-20160726T222329Z_C-20190626T064034Z.json\n",
      "./reffs/IMOS_ANMN-QLD_CFKTUZ_20130621T054453Z_DARBGF_FV00_DARBGF-1306-SBE-16plus-29.9_END-20140109T054453Z_C-20150401T060718Z.json\n",
      "./reffs/IMOS_ANMN-QLD_CFKTUZ_20131217T060003Z_DARBGF_FV00_DARBGF-1401-SBE16plus-30_END-20140918T024503Z_C-20171026T061846Z.json\n",
      "./reffs/IMOS_ANMN-QLD_CFKTUZ_20140914T021459Z_DARBGF_FV00_DARBGF-1409-SBE16plus-30.1_END-20150205T024459Z_C-20171026T050525Z.json\n",
      "./reffs/IMOS_ANMN-QLD_CFKTUZ_20150204T000003Z_DARBGF_FV00_DARBGF-1502-SBE16plus-31.9_END-20150809T063003Z_C-20171026T032427Z.json\n",
      "./reffs/IMOS_ANMN-QLD_CFKTUZ_20150805T103003Z_DARBGF_FV00_DARBGF-1508-SBE16plus-29.3_END-20160207T225112Z_C-20171023T055701Z.json\n",
      "./reffs/IMOS_ANMN-QLD_CFKTUZ_20160206T234503Z_DARBGF_FV00_DARBGF-1602-SBE16plus-28.4_END-20160731T023003Z_C-20171024T024043Z.json\n",
      "./reffs/IMOS_ANMN-QLD_CFKTUZ_20160726T023003Z_DARBGF_FV00_DARBGF-1607-SBE16plus-29.5_END-20170209T011540Z_C-20171026T021309Z.json\n",
      "./reffs/IMOS_ANMN-QLD_CKOSTUZ_20150523T085944Z_DARBGF_FV00_DARBGF-SURF-1505-WQM-1_END-20150714T221531Z_C-20171026T040809Z.json\n",
      "./reffs/IMOS_ANMN-QLD_CKOSTUZ_20150812T082934Z_DARBGF_FV00_DARBGF-SURF-1508-WQM-0.2_END-20160207T071706Z_C-20171023T081732Z.json\n",
      "./reffs/IMOS_ANMN-QLD_CKOTUZ_20160205T054444Z_DARBGF_FV00_DARBGF-SURF-1602-WQM-31_END-20160729T073859Z_C-20171024T040629Z.json\n",
      "./reffs/IMOS_ANMN-QLD_AETVZ_20140107T055900Z_DARBGF_FV01_DARBGF-1401-Sentinel-or-Monitor-Workhorse-ADCP-29.75_END-20140424T040900Z_C-20171026T061853Z.json\n",
      "./reffs/IMOS_ANMN-QLD_AETVZ_20140914T065900Z_DARBGF_FV01_DARBGF-1409-Sentinel-or-Monitor-Workhorse-ADCP-29.6_END-20150206T002900Z_C-20171026T050531Z.json\n",
      "./reffs/IMOS_ANMN-QLD_AETVZ_20150204T035900Z_DARBGF_FV01_DARBGF-1502-Sentinel-or-Monitor-Workhorse-ADCP-31.5_END-20150809T021900Z_C-20171026T032432Z.json\n",
      "./reffs/IMOS_ANMN-QLD_AETVZ_20150805T095900Z_DARBGF_FV01_DARBGF-1508-Sentinel-or-Monitor-Workhorse-ADCP-28.8_END-20160207T061900Z_C-20171023T055706Z.json\n",
      "./reffs/IMOS_ANMN-QLD_AETVZ_20160206T235900Z_DARBGF_FV01_DARBGF-1602-Sentinel-or-Monitor-Workhorse-ADCP-28.4_END-20160728T013900Z_C-20171024T024049Z.json\n",
      "./reffs/IMOS_ANMN-QLD_AETVZ_20160726T015900Z_DARBGF_FV01_DARBGF-1607-Sentinel-or-Monitor-Workhorse-ADCP-29.1_END-20170208T225900Z_C-20171026T021314Z.json\n",
      "./reffs/IMOS_ANMN-QLD_AETVZ_20140107T055900Z_DARBGF_FV00_DARBGF-1401-Sentinel-or-Monitor-Workhorse-ADCP-29.75_END-20140424T040900Z_C-20171026T061853Z.json\n",
      "./reffs/IMOS_ANMN-QLD_AETVZ_20140914T065900Z_DARBGF_FV00_DARBGF-1409-Sentinel-or-Monitor-Workhorse-ADCP-29.6_END-20150206T002900Z_C-20171026T050531Z.json\n",
      "./reffs/IMOS_ANMN-QLD_AETVZ_20150204T035900Z_DARBGF_FV00_DARBGF-1502-Sentinel-or-Monitor-Workhorse-ADCP-31.5_END-20150809T021900Z_C-20171026T032432Z.json\n",
      "./reffs/IMOS_ANMN-QLD_AETVZ_20150805T095900Z_DARBGF_FV00_DARBGF-1508-Sentinel-or-Monitor-Workhorse-ADCP-28.8_END-20160207T061900Z_C-20171023T055706Z.json\n",
      "./reffs/IMOS_ANMN-QLD_AETVZ_20160206T235900Z_DARBGF_FV00_DARBGF-1602-Sentinel-or-Monitor-Workhorse-ADCP-28.4_END-20160728T013900Z_C-20171024T024049Z.json\n",
      "./reffs/IMOS_ANMN-QLD_AETVZ_20160726T015900Z_DARBGF_FV00_DARBGF-1607-Sentinel-or-Monitor-Workhorse-ADCP-29.1_END-20170208T225900Z_C-20171026T021314Z.json\n",
      "./reffs/IMOS_ANMN-QLD_WZ_20140107T055900Z_DARBGF_FV01_DARBGF-1401-Sentinel-or-Monitor-Workhorse-ADCP-29.75_END-20140424T035900Z_C-20171026T061903Z.json\n",
      "./reffs/IMOS_ANMN-QLD_WZ_20140914T065900Z_DARBGF_FV01_DARBGF-1409-Sentinel-or-Monitor-Workhorse-ADCP-29.6_END-20150205T225900Z_C-20171026T050541Z.json\n",
      "./reffs/IMOS_ANMN-QLD_WZ_20150204T035900Z_DARBGF_FV01_DARBGF-1502-Sentinel-or-Monitor-Workhorse-ADCP-31.5_END-20150809T015900Z_C-20171026T032441Z.json\n",
      "./reffs/IMOS_ANMN-QLD_WZ_20150805T095900Z_DARBGF_FV01_DARBGF-1508-Sentinel-or-Monitor-Workhorse-ADCP-28.8_END-20160207T055900Z_C-20171023T055715Z.json\n",
      "./reffs/IMOS_ANMN-QLD_WZ_20160206T235900Z_DARBGF_FV01_DARBGF-1602-Sentinel-or-Monitor-Workhorse-ADCP-28.4_END-20160727T235900Z_C-20171024T024059Z.json\n",
      "./reffs/IMOS_ANMN-QLD_WZ_20160726T015900Z_DARBGF_FV01_DARBGF-1607-Sentinel-or-Monitor-Workhorse-ADCP-29.1_END-20170208T215900Z_C-20171026T021322Z.json\n",
      "./reffs/IMOS_ANMN-QLD_WZ_20140107T055900Z_DARBGF_FV00_DARBGF-1401-Sentinel-or-Monitor-Workhorse-ADCP-29.75_END-20140424T035900Z_C-20171026T061903Z.json\n",
      "./reffs/IMOS_ANMN-QLD_WZ_20140914T065900Z_DARBGF_FV00_DARBGF-1409-Sentinel-or-Monitor-Workhorse-ADCP-29.6_END-20150205T225900Z_C-20171026T050541Z.json\n",
      "./reffs/IMOS_ANMN-QLD_WZ_20150204T035900Z_DARBGF_FV00_DARBGF-1502-Sentinel-or-Monitor-Workhorse-ADCP-31.5_END-20150809T015900Z_C-20171026T032441Z.json\n",
      "./reffs/IMOS_ANMN-QLD_WZ_20150805T095900Z_DARBGF_FV00_DARBGF-1508-Sentinel-or-Monitor-Workhorse-ADCP-28.8_END-20160207T055900Z_C-20171023T055715Z.json\n",
      "./reffs/IMOS_ANMN-QLD_WZ_20160206T235900Z_DARBGF_FV00_DARBGF-1602-Sentinel-or-Monitor-Workhorse-ADCP-28.4_END-20160727T235900Z_C-20171024T024059Z.json\n",
      "./reffs/IMOS_ANMN-QLD_WZ_20160726T015900Z_DARBGF_FV00_DARBGF-1607-Sentinel-or-Monitor-Workhorse-ADCP-29.1_END-20170208T215900Z_C-20171026T021322Z.json\n",
      "./reffs/IMOS_ANMN-QLD_BZ_20130626_DARBGF_FV01_CHLF-aggregated-timeseries_END-20140107_C-20220622.json\n",
      "./reffs/IMOS_ANMN-QLD_BZ_20140108_DARBGF_FV01_CPHL-aggregated-timeseries_END-20170207_C-20220622.json\n",
      "./reffs/IMOS_ANMN-QLD_FZ_20130626_DARBGF_FV01_PAR-aggregated-timeseries_END-20170207_C-20220622.json\n",
      "./reffs/IMOS_ANMN-QLD_OZ_20150524_DARBGF_FV01_DOX1-aggregated-timeseries_END-20160726_C-20220622.json\n",
      "./reffs/IMOS_ANMN-QLD_OZ_20150524_DARBGF_FV01_DOX2-aggregated-timeseries_END-20160726_C-20220622.json\n",
      "./reffs/IMOS_ANMN-QLD_OZ_20150524_DARBGF_FV01_DOXS-aggregated-timeseries_END-20160726_C-20220622.json\n",
      "./reffs/IMOS_ANMN-QLD_SZ_20130626_DARBGF_FV01_PSAL-aggregated-timeseries_END-20170207_C-20220622.json\n",
      "./reffs/IMOS_ANMN-QLD_TZ_20130626_DARBGF_FV01_TEMP-aggregated-timeseries_END-20170207_C-20220622.json\n",
      "./reffs/IMOS_ANMN-QLD_UZ_20130626_DARBGF_FV01_TURB-aggregated-timeseries_END-20170207_C-20220622.json\n",
      "./reffs/IMOS_ANMN-QLD_VZ_20140108_DARBGF_FV01_velocity-aggregated-timeseries_END-20170207_C-20220622.json\n",
      "./reffs/IMOS_ANMN-QLD_TZ_20130626_DARBGF_FV02_TEMP-gridded-timeseries_END-20170207_C-20220622.json\n",
      "./reffs/IMOS_ANMN-QLD_BFOSTUZ_20130626_DARBGF_FV02_hourly-timeseries-including-non-QC_END-20170207_C-20220622.json\n",
      "./reffs/IMOS_ANMN-QLD_BFOSTUZ_20130626_DARBGF_FV02_hourly-timeseries_END-20170207_C-20220622.json\n",
      "./reffs/IMOS_ANMN-QLD_VZ_20140108_DARBGF_FV02_velocity-hourly-timeseries_END-20170208_C-20220622.json\n",
      "./reffs/IMOS_ANMN-QLD_CDEFKOSTZ_20130327T221000Z_GBRCCH_FV01_Profile-SBE19plus_C-20210219T043303Z.json\n",
      "./reffs/IMOS_ANMN-QLD_CDEFKOSTZ_20140330T213000Z_GBRCCH_FV01_Profile-SBE19plus_C-20210330T235106Z.json\n",
      "./reffs/IMOS_ANMN-QLD_CDEFKOSTZ_20140403T225900Z_GBRCCH_FV01_Profile-SBE19plus_C-20210330T235120Z.json\n",
      "./reffs/IMOS_ANMN-QLD_CDEFKOSTZ_20141015T225000Z_GBRCCH_FV01_Profile-SBE19plus_C-20210223T230826Z.json\n",
      "./reffs/IMOS_ANMN-QLD_CDEFKOSTZ_20141017T040800Z_GBRCCH_FV01_Profile-SBE19plus_C-20210223T230836Z.json\n",
      "./reffs/IMOS_ANMN-QLD_CDEFKOSTZ_20150325T001200Z_GBRCCH_FV01_Profile-SBE19plus_C-20201207T061617Z.json\n"
     ]
    }
   ],
   "source": [
    "for u,ref in zip(urls,ref_dicts):\n",
    "    output = json.dumps(ref).encode()\n",
    "    out_file = \"./reffs/\"+os.path.basename(u).replace('.nc','.json')\n",
    "    print(out_file)\n",
    "    with open(out_file,\"wb\") as outf:\n",
    "        outf.write(output)"
   ]
  },
  {
   "cell_type": "code",
   "execution_count": 18,
   "id": "02f85270-9e22-4a24-bd63-c9c0c3830a6b",
   "metadata": {},
   "outputs": [],
   "source": [
    "!zip -r -q nsw_refs.zip *.json"
   ]
  },
  {
   "cell_type": "code",
   "execution_count": 1,
   "id": "30ece53e-9815-41e5-a62d-ec1a42f522aa",
   "metadata": {},
   "outputs": [],
   "source": [
    "def open_single(fn,preprocess=None,storage_options=dict(anon=True)):\n",
    "    import fsspec\n",
    "    import xarray as xr\n",
    "    \n",
    "    mapper=fsspec.get_mapper('reference://',\n",
    "                             fo=fn,\n",
    "                             remote_protocol='s3',\n",
    "                             remote_options=storage_options,\n",
    "                            )\n",
    "    ds = xr.open_zarr(mapper,chunks={}, consolidated=False, decode_times=False)   \n",
    "    \n",
    "    if preprocess is not None:\n",
    "        ds = preprocess(ds)\n",
    "    \n",
    "    return ds"
   ]
  },
  {
   "cell_type": "code",
   "execution_count": 5,
   "id": "579a3575-4118-411e-a349-d79bca639d1a",
   "metadata": {},
   "outputs": [],
   "source": [
    "import json\n",
    "with open('./IMOS_ANMN-NSW_TZ_20090812T02000', \"r\") as read_file:\n",
    "    ref = json.load(read_file)\n"
   ]
  },
  {
   "cell_type": "code",
   "execution_count": 6,
   "id": "e5992931-f631-477a-a190-a1f4672d3bb9",
   "metadata": {},
   "outputs": [],
   "source": [
    "import xarray as xr\n",
    "ds = xr.open_dataset(\n",
    "    \"reference://\", engine=\"zarr\",\n",
    "    backend_kwargs={\n",
    "        \"storage_options\": {\n",
    "            \"fo\": ref,\n",
    "            \"remote_protocol\": \"s3\",\n",
    "            \"remote_options\": {\"anon\": True}\n",
    "        },\n",
    "        \"consolidated\": False\n",
    "    }\n",
    ")"
   ]
  },
  {
   "cell_type": "code",
   "execution_count": 19,
   "id": "e3d051c1-3793-4749-b9ad-0be262f6879b",
   "metadata": {},
   "outputs": [
    {
     "name": "stderr",
     "output_type": "stream",
     "text": [
      "2022-08-17 05:44:25,242 - distributed.client - ERROR - Failed to reconnect to scheduler after 30.00 seconds, closing client\n",
      "2022-08-17 05:44:25,244 - distributed.client - ERROR - Failed to reconnect to scheduler after 30.00 seconds, closing client\n"
     ]
    }
   ],
   "source": [
    "!zip -r -q aodn_refs.zip reffs"
   ]
  },
  {
   "cell_type": "code",
   "execution_count": null,
   "id": "7cbd3b34-637e-4aab-a47a-1d9ecab5f07d",
   "metadata": {},
   "outputs": [],
   "source": []
  }
 ],
 "metadata": {
  "kernelspec": {
   "display_name": "aodn2",
   "language": "python",
   "name": "aodn2"
  },
  "language_info": {
   "codemirror_mode": {
    "name": "ipython",
    "version": 3
   },
   "file_extension": ".py",
   "mimetype": "text/x-python",
   "name": "python",
   "nbconvert_exporter": "python",
   "pygments_lexer": "ipython3",
   "version": "3.8.10"
  }
 },
 "nbformat": 4,
 "nbformat_minor": 5
}
